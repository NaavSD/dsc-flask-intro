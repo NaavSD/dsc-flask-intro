{
 "cells": [
  {
   "cell_type": "markdown",
   "metadata": {},
   "source": [
    "# Introduction to Flask"
   ]
  },
  {
   "cell_type": "markdown",
   "metadata": {},
   "source": [
    "## Introduction\n",
    "\n",
    "In this lesson you'll look at a very simple web application using a framework called Flask.\n",
    "\n",
    "## Objectives\n",
    "\n",
    "* Recall the client-server model and request-response cycle\n",
    "* Identify the key functionality of a web server\n",
    "* Practice running a Flask web server on your local computer"
   ]
  },
  {
   "cell_type": "markdown",
   "metadata": {},
   "source": [
    "## Client-Server Model and Request-Response Cycle\n",
    "\n",
    "Let's review some of the fundamentals of web architecture.\n",
    "\n",
    "![request response cycle](https://curriculum-content.s3.amazonaws.com/data-science/images/request_response_cycle.png)\n",
    "\n",
    "(Icons made by [Freepik](https://www.flaticon.com/authors/freepik) from www.flaticon.com)\n",
    "\n",
    "### Client\n",
    "\n",
    "The client makes the **request** and waits for the **response**. Probably the most familiar HTTP client is a web browser. We have also previously used the `requests` library to make a Python code client.\n",
    "\n",
    "### Server\n",
    "\n",
    "The server runs constantly, waiting for requests, and then responds to requests when it receives them. Most of the time as a data scientist you will be interacting with a server that someone else is managing. However in this lesson we'll learn how to run a server of our own!\n",
    "\n",
    "### Web Server\n",
    "\n",
    "In this lesson we're specifically looking at a **web server** called Flask. Not all servers are web servers (e.g. database servers are a different kind of server), but web servers are a particularly valuable tool because they allow resources and services to be accessed via the Internet.\n",
    "\n",
    "Web servers accept requests and serve responses with an **HTTP protocol**. This protocol means that the client and server can operate using totally different languages, and easily interact so long as they use the right HTTP methods, paths, headers, and responses.\n",
    "\n",
    "In this example, we'll set up:\n",
    "\n",
    "* HTTP `GET` method\n",
    "  * Used by clients to request to read some form of data from the server\n",
    "  * Corresponds to the `.get()` method in the `requests` library\n",
    "* `/` path\n",
    "  * Essentially asking for the \"home page\" of the website\n",
    "* No particular headers\n",
    "* A string response"
   ]
  },
  {
   "cell_type": "markdown",
   "metadata": {},
   "source": [
    "## A \"Hello World\" Flask App\n",
    "\n",
    "For the rest of this lesson we'll be creating a very basic Flask app. Clone this repository and follow along on your local computer, using your preferred local code editor (e.g. VS Code) and your terminal application."
   ]
  },
  {
   "cell_type": "markdown",
   "metadata": {},
   "source": [
    "### Setting up a Flask Environment\n",
    "\n",
    "Let's make a new `conda` environment for developing our Flask app.\n",
    "\n",
    "Run this code in the terminal:\n",
    "\n",
    "```bash\n",
    "conda create --name flask-env python=3.10.2 pip\n",
    "conda activate flask-env\n",
    "pip install Flask==2.0.3\n",
    "```\n",
    "\n",
    "Test whether it worked by running this command in the terminal:\n",
    "\n",
    "```bash\n",
    "which flask\n",
    "```\n",
    "\n",
    "It should print out a path that includes `flask-env`. If it doesn't, try repeatedly running `conda deactivate` until there is no current active conda environment, then `conda activate flask-env` again."
   ]
  },
  {
   "cell_type": "markdown",
   "metadata": {},
   "source": [
    "### Running the Flask Application\n",
    "\n",
    "Now, run the following commands in the terminal, from the root of this repository:\n",
    "\n",
    "```bash\n",
    "export FLASK_ENV=development\n",
    "env FLASK_APP=app.py flask run\n",
    "```\n",
    "\n",
    "This will produce an output that looks something like:\n",
    "\n",
    "```\n",
    " * Serving Flask app 'app.py' (lazy loading)\n",
    " * Environment: development\n",
    " * Debug mode: on\n",
    " * Running on http://127.0.0.1:5000/ (Press CTRL+C to quit)\n",
    " * Restarting with stat\n",
    " * Debugger is active!\n",
    " * Debugger PIN: <PIN>\n",
    "```\n",
    "\n",
    "Your server is now up and running!\n",
    "\n",
    "(If you get `Error: Could not import 'app'`, make sure that you are running the above code *from the root of this repository*.)\n",
    "\n",
    "Like Jupyter Notebook, this server needs to stay running in the terminal for the application to work. If you want to do something else in the terminal, you will need to open a new window/tab, or shut down the server with control-C.\n",
    "\n",
    "**DO NOT** just close the terminal window when you are done running the Flask app. It will keep running in the background and cause problems unless you locate the process ID and terminate it. Always make sure you use control-C.\n",
    "\n",
    "Unlike Jupyter notebook, this doesn't open in the browser automatically. You need to copy the URL `http://127.0.0.1:5000/` and paste it into a web browser address bar. Once you do that, you should see this:\n",
    "\n",
    "![hello world page](https://curriculum-content.s3.amazonaws.com/data-science/images/flask_hello_world.png)\n",
    "\n",
    "Now, go ahead and shut down the Flask server by typing control-C in the terminal."
   ]
  },
  {
   "cell_type": "markdown",
   "metadata": {},
   "source": [
    "## Flask Source Code\n",
    "\n",
    "This line\n",
    "\n",
    "```bash\n",
    "env FLASK_APP=app.py flask run\n",
    "```\n",
    "\n",
    "means that the Flask source code is located in a file called `app.py`. Open up that file in your favorite text editor.\n",
    "\n",
    "`app.py` looks like this:\n",
    "\n",
    "```python\n",
    "# import flask here\n",
    "from flask import Flask\n",
    "\n",
    "# create new flask app here\n",
    "app = Flask(__name__)\n",
    "\n",
    "# define routes for your new flask app\n",
    "@app.route('/', methods=['GET'])\n",
    "def index():\n",
    "    return 'Hello, world!'\n",
    "```\n",
    "\n",
    "That's it, that's the entire web server code! The Flask library does a lot of work for us.\n",
    "\n",
    "Let's break down each line of `app.py`.\n",
    "\n",
    "### Importing Flask\n",
    "\n",
    "First, we imported the `Flask` class from the `flask` library:\n",
    "\n",
    "```python\n",
    "from flask import Flask\n",
    "```\n",
    "\n",
    "### Instantiating `Flask` Object\n",
    "\n",
    "Then we create a new instance of `Flask`, called `app`:\n",
    "\n",
    "```python\n",
    "app = Flask(__name__)\n",
    "```\n",
    "\n",
    "You can find more documentation [here](https://flask.palletsprojects.com/en/2.0.x/api/#flask.Flask), including an explanation for the `__name__` parameter.\n",
    "\n",
    "### Defining a `/` Route\n",
    "\n",
    "```python\n",
    "@app.route('/', methods=['GET'])\n",
    "def index():\n",
    "    return 'Hello, world!'\n",
    "```\n",
    "\n",
    "`@app.route` is a *decorator* that adds the function immediately below it as a route on the Flask app. This particular route uses the HTTP `GET` method and the `/` path.\n",
    "\n",
    "The name of the function, `index()`, is conventional for the home page (`/` path), but it can be anything you want it to be. The important part is the content of the function.\n",
    "\n",
    "In this case, it simply returns a string. In a more complex Flask app, this might take in additional information from the body of the request or the URL parameters, and would typically return JSON or HTML rather than simply a string like `'Hello, world!'`."
   ]
  },
  {
   "cell_type": "markdown",
   "metadata": {},
   "source": [
    "## Exercises\n",
    "\n",
    "Practice defining a few more routes in `app.py`.\n",
    "\n",
    "* Define a route `GET '/welcome'` which shows the text `'Welcome to an amazing Flask App!'`"
   ]
  },
  {
   "cell_type": "code",
   "execution_count": null,
   "metadata": {},
   "outputs": [],
   "source": [
    "# __SOLUTION__\n",
    "\n",
    "# Solution code:\n",
    "# For this to work it needs to be pasted into app.py\n",
    "@app.route('/welcome', methods=['GET'])\n",
    "def welcome():\n",
    "    return 'Welcome to an amazing Flask App!'"
   ]
  },
  {
   "cell_type": "markdown",
   "metadata": {},
   "source": [
    "* Define a route `GET '/goodbye'` which shows the text `'Thanks for looking around. Come back again soon!'`"
   ]
  },
  {
   "cell_type": "code",
   "execution_count": null,
   "metadata": {},
   "outputs": [],
   "source": [
    "# __SOLUTION__\n",
    "\n",
    "# Solution code:\n",
    "# For this to work it needs to be pasted into app.py\n",
    "@app.route('/goodbye', methods=['GET'])\n",
    "def goodbye():\n",
    "    return 'Thanks for looking around. Come back again soon!'"
   ]
  },
  {
   "cell_type": "markdown",
   "metadata": {},
   "source": [
    "Test these out by running the app again:\n",
    "\n",
    "```bash\n",
    "env FLASK_APP=app.py flask run\n",
    "```\n",
    "\n",
    "Then go to the browser and try:\n",
    "\n",
    "```\n",
    "http://127.0.0.1:5000/welcome\n",
    "```\n",
    "\n",
    "and\n",
    "\n",
    "```\n",
    "http://127.0.0.1:5000/goodbye\n",
    "```"
   ]
  },
  {
   "cell_type": "markdown",
   "metadata": {},
   "source": [
    "## Finishing Up\n",
    "\n",
    "Make sure you shut down the Flask server by typing control-C in the terminal window where it is running."
   ]
  },
  {
   "cell_type": "markdown",
   "metadata": {},
   "source": [
    "## Summary\n",
    "\n",
    "In this lesson you reviewed the client-server model and request-response cycle, and saw a specific application of it using a basic Flask app."
   ]
  }
 ],
 "metadata": {
  "kernelspec": {
   "display_name": "Python (learn-env)",
   "language": "python",
   "name": "learn-env"
  },
  "language_info": {
   "codemirror_mode": {
    "name": "ipython",
    "version": 3
   },
   "file_extension": ".py",
   "mimetype": "text/x-python",
   "name": "python",
   "nbconvert_exporter": "python",
   "pygments_lexer": "ipython3",
   "version": "3.8.5"
  }
 },
 "nbformat": 4,
 "nbformat_minor": 4
}
